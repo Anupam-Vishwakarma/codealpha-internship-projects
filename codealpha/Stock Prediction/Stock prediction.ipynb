{
 "cells": [
  {
   "cell_type": "code",
   "execution_count": 44,
   "id": "929e87f0-61a2-4724-a191-a56e57c12ecc",
   "metadata": {},
   "outputs": [],
   "source": [
    "import pandas as pd\n",
    "import numpy as np\n",
    "from sklearn.preprocessing import MinMaxScaler\n",
    "from keras.models import Sequential\n",
    "from keras.layers import LSTM, Dense\n",
    "from keras.layers import Input"
   ]
  },
  {
   "cell_type": "code",
   "execution_count": 64,
   "id": "87070c12-7cc1-483f-a921-19a53d9c303e",
   "metadata": {},
   "outputs": [],
   "source": [
    "# Load the data\n",
    "df = pd.read_csv('TSLA.csv')"
   ]
  },
  {
   "cell_type": "code",
   "execution_count": 65,
   "id": "1ef6767c-49e9-47aa-97e3-b45b0f343169",
   "metadata": {},
   "outputs": [
    {
     "name": "stdout",
     "output_type": "stream",
     "text": [
      "        SDate   Open   High    Low  Close  Adj Close    Volume\n",
      "0  29-06-2010  3.800  5.000  3.508  4.778      4.778  93831500\n",
      "1  30-06-2010  5.158  6.084  4.660  4.766      4.766  85935500\n",
      "2  01-07-2010  5.000  5.184  4.054  4.392      4.392  41094000\n",
      "3  02-07-2010  4.600  4.620  3.742  3.840      3.840  25699000\n",
      "4  06-07-2010  4.000  4.000  3.166  3.222      3.222  34334500\n",
      "SDate         object\n",
      "Open         float64\n",
      "High         float64\n",
      "Low          float64\n",
      "Close        float64\n",
      "Adj Close    float64\n",
      "Volume         int64\n",
      "dtype: object\n",
      "SDate        0\n",
      "Open         0\n",
      "High         0\n",
      "Low          0\n",
      "Close        0\n",
      "Adj Close    0\n",
      "Volume       0\n",
      "dtype: int64\n"
     ]
    }
   ],
   "source": [
    "# Print the first few rows of the data\n",
    "print(df.head())\n",
    "\n",
    "# Check the data types of each column\n",
    "print(df.dtypes)\n",
    "\n",
    "# Check for missing values\n",
    "print(df.isnull().sum())"
   ]
  },
  {
   "cell_type": "code",
   "execution_count": 66,
   "id": "0cec2227-4b4d-487d-8dec-d9f09c5cc227",
   "metadata": {},
   "outputs": [],
   "source": [
    "# Convert the 'Date' column to datetime format\n",
    "df['SDate'] = pd.to_datetime(df['SDate'], dayfirst=True)\n",
    "\n",
    "# Set the 'Date' column as the index\n",
    "df.set_index('SDate')\n",
    "\n",
    "# Fill missing values with the previous day's value\n",
    "df.ffill(inplace=True)"
   ]
  },
  {
   "cell_type": "code",
   "execution_count": 67,
   "id": "f1c73d4a-8e58-4a05-bfe8-743c4b154aef",
   "metadata": {},
   "outputs": [],
   "source": [
    "# Split the data into training and testing sets\n",
    "train_size = int(len(df) * 0.8)\n",
    "train_data, test_data = df[:train_size], df[train_size:]"
   ]
  },
  {
   "cell_type": "code",
   "execution_count": 68,
   "id": "3f6a7c20-85ab-4865-b602-3dff8e3e21dc",
   "metadata": {},
   "outputs": [],
   "source": [
    "# Create a MinMaxScaler object\n",
    "scaler = MinMaxScaler()\n",
    "\n",
    "# Fit the scaler to the training data and transform both the training and testing data\n",
    "train_scaled = scaler.fit_transform(train_data.drop('SDate', axis=1))\n",
    "test_scaled = scaler.transform(test_data.drop('SDate', axis=1))"
   ]
  },
  {
   "cell_type": "code",
   "execution_count": 69,
   "id": "f0ed6fb5-67e0-4eb5-9f10-02327922d4f8",
   "metadata": {},
   "outputs": [],
   "source": [
    "# Split the scaled data into input and output sequences\n",
    "def split_sequence(sequence, n_steps):\n",
    "    X, y = [], []\n",
    "    for i in range(len(sequence)):\n",
    "        # Find the end of this pattern\n",
    "        end_ix = i + n_steps\n",
    "        # Check if we are beyond the dataset\n",
    "        if end_ix > len(sequence)-1:\n",
    "            break\n",
    "        # Gather input and output parts of the pattern\n",
    "        seq_x, seq_y = sequence[i:end_ix], sequence[end_ix]\n",
    "        X.append(seq_x)\n",
    "        y.append(seq_y)\n",
    "    return np.array(X), np.array(y)\n",
    "\n",
    "n_steps = 30  # Number of time steps to look back\n",
    "X_train, y_train = split_sequence(train_scaled, n_steps)\n",
    "X_test, y_test = split_sequence(test_scaled, n_steps)"
   ]
  },
  {
   "cell_type": "code",
   "execution_count": 70,
   "id": "1b8b534f-45bf-4ef6-8e78-f44c4459c044",
   "metadata": {},
   "outputs": [],
   "source": [
    "# Separate the datetime column from the numerical columns\n",
    "datetime_column = train_data['SDate']\n",
    "numerical_columns = train_data[[col for col in train_data.columns if train_data[col].dtype in ['int64', 'float64']]]\n",
    "\n",
    "test_datetime_column = test_data['SDate']\n",
    "test_numerical_columns = test_data[[col for col in test_data.columns if test_data[col].dtype in ['int64', 'float64']]]\n",
    "\n",
    "# Convert the datetime columns to numerical format\n",
    "datetime_column_num = (datetime_column - pd.to_datetime('1970-01-01')).dt.total_seconds()\n",
    "test_datetime_column_num = (test_datetime_column - pd.to_datetime('1970-01-01')).dt.total_seconds()\n",
    "\n",
    "# Create a MinMaxScaler object\n",
    "scaler = MinMaxScaler()\n",
    "\n",
    "# Fit the scaler to the training data and transform both the training and testing data\n",
    "train_scaled = scaler.fit_transform(numerical_columns)\n",
    "test_scaled = scaler.transform(test_numerical_columns)\n",
    "\n",
    "# Combine the scaled numerical columns and the numerical datetime columns\n",
    "train_scaled = np.concatenate((train_scaled, datetime_column_num.values.reshape(-1, 1)), axis=1)\n",
    "test_scaled = np.concatenate((test_scaled, test_datetime_column_num.values.reshape(-1, 1)), axis=1)"
   ]
  },
  {
   "cell_type": "code",
   "execution_count": 71,
   "id": "6e1e1d7a-1513-426a-a0cb-999ddc3a6e93",
   "metadata": {},
   "outputs": [],
   "source": [
    "# Split the scaled data into input and output sequences\n",
    "def split_sequence(sequence, n_steps):\n",
    "    X, y = [], []\n",
    "    for i in range(len(sequence)):\n",
    "        # Find the end of this pattern\n",
    "        end_ix = i + n_steps\n",
    "        # Check if we are beyond the dataset\n",
    "        if end_ix > len(sequence)-1:\n",
    "            break\n",
    "        # Gather input and output parts of the pattern\n",
    "        seq_x, seq_y = sequence[i:end_ix], sequence[end_ix]\n",
    "        X.append(seq_x)\n",
    "        y.append(seq_y)\n",
    "    return np.array(X), np.array(y)\n",
    "\n",
    "n_steps = 30  # Number of time steps to look back\n",
    "X_train, y_train = split_sequence(train_scaled, n_steps)\n",
    "X_test, y_test = split_sequence(test_scaled, n_steps)"
   ]
  },
  {
   "cell_type": "code",
   "execution_count": 72,
   "id": "e96252b0-426a-4f92-8445-a530cc6c8e30",
   "metadata": {},
   "outputs": [
    {
     "name": "stdout",
     "output_type": "stream",
     "text": [
      "(2334, 30, 7)\n"
     ]
    }
   ],
   "source": [
    "print(X_train.shape)"
   ]
  },
  {
   "cell_type": "code",
   "execution_count": 73,
   "id": "4419cad0-aec6-4c82-873b-77817dd7dfa4",
   "metadata": {},
   "outputs": [],
   "source": [
    "X_train = X_train.reshape((X_train.shape[0], 210))\n",
    "X_train = X_train.reshape((X_train.shape[0], 30, 7))\n",
    "X_test = X_test.reshape((X_test.shape[0], 210))\n",
    "X_test = X_test.reshape((X_test.shape[0], 30, 7))"
   ]
  },
  {
   "cell_type": "code",
   "execution_count": 74,
   "id": "fcef6218-2a25-4f21-8ce5-e1283db4a03f",
   "metadata": {},
   "outputs": [],
   "source": [
    "model = Sequential()\n",
    "model.add(Input(shape=(30, 7)))  # Define the input shape here\n",
    "model.add(LSTM(50))  # Replace 50 with the number of units you want\n",
    "model.add(Dense(1))  # Replace 1 with the number of output units you want\n",
    "model.compile(loss='mean_squared_error', optimizer='adam')"
   ]
  },
  {
   "cell_type": "code",
   "execution_count": 75,
   "id": "2060431d-20e7-4757-b56d-7fe0e5de144d",
   "metadata": {},
   "outputs": [
    {
     "name": "stdout",
     "output_type": "stream",
     "text": [
      "Epoch 1/50\n",
      "73/73 - 2s - 21ms/step - loss: 292216380680306688.0000\n",
      "Epoch 2/50\n",
      "73/73 - 0s - 5ms/step - loss: 292216311960829952.0000\n",
      "Epoch 3/50\n",
      "73/73 - 0s - 5ms/step - loss: 292216311960829952.0000\n",
      "Epoch 4/50\n",
      "73/73 - 0s - 5ms/step - loss: 292216415040045056.0000\n",
      "Epoch 5/50\n",
      "73/73 - 0s - 5ms/step - loss: 292216311960829952.0000\n",
      "Epoch 6/50\n",
      "73/73 - 0s - 5ms/step - loss: 292216277601091584.0000\n",
      "Epoch 7/50\n",
      "73/73 - 0s - 5ms/step - loss: 292216415040045056.0000\n",
      "Epoch 8/50\n",
      "73/73 - 0s - 5ms/step - loss: 292216311960829952.0000\n",
      "Epoch 9/50\n",
      "73/73 - 0s - 5ms/step - loss: 292216346320568320.0000\n",
      "Epoch 10/50\n",
      "73/73 - 0s - 5ms/step - loss: 292216380680306688.0000\n",
      "Epoch 11/50\n",
      "73/73 - 0s - 5ms/step - loss: 292216415040045056.0000\n",
      "Epoch 12/50\n",
      "73/73 - 0s - 5ms/step - loss: 292216346320568320.0000\n",
      "Epoch 13/50\n",
      "73/73 - 0s - 5ms/step - loss: 292216311960829952.0000\n",
      "Epoch 14/50\n",
      "73/73 - 0s - 5ms/step - loss: 292216415040045056.0000\n",
      "Epoch 15/50\n",
      "73/73 - 0s - 5ms/step - loss: 292216346320568320.0000\n",
      "Epoch 16/50\n",
      "73/73 - 0s - 5ms/step - loss: 292216346320568320.0000\n",
      "Epoch 17/50\n",
      "73/73 - 0s - 5ms/step - loss: 292216311960829952.0000\n",
      "Epoch 18/50\n",
      "73/73 - 0s - 5ms/step - loss: 292216380680306688.0000\n",
      "Epoch 19/50\n",
      "73/73 - 0s - 5ms/step - loss: 292216380680306688.0000\n",
      "Epoch 20/50\n",
      "73/73 - 0s - 5ms/step - loss: 292216380680306688.0000\n",
      "Epoch 21/50\n",
      "73/73 - 0s - 5ms/step - loss: 292216243241353216.0000\n",
      "Epoch 22/50\n",
      "73/73 - 0s - 5ms/step - loss: 292216346320568320.0000\n",
      "Epoch 23/50\n",
      "73/73 - 0s - 5ms/step - loss: 292216243241353216.0000\n",
      "Epoch 24/50\n",
      "73/73 - 0s - 5ms/step - loss: 292216415040045056.0000\n",
      "Epoch 25/50\n",
      "73/73 - 0s - 5ms/step - loss: 292216415040045056.0000\n",
      "Epoch 26/50\n",
      "73/73 - 0s - 5ms/step - loss: 292216311960829952.0000\n",
      "Epoch 27/50\n",
      "73/73 - 0s - 5ms/step - loss: 292216346320568320.0000\n",
      "Epoch 28/50\n",
      "73/73 - 0s - 5ms/step - loss: 292216380680306688.0000\n",
      "Epoch 29/50\n",
      "73/73 - 0s - 5ms/step - loss: 292216346320568320.0000\n",
      "Epoch 30/50\n",
      "73/73 - 0s - 5ms/step - loss: 292216380680306688.0000\n",
      "Epoch 31/50\n",
      "73/73 - 0s - 5ms/step - loss: 292216415040045056.0000\n",
      "Epoch 32/50\n",
      "73/73 - 0s - 5ms/step - loss: 292216277601091584.0000\n",
      "Epoch 33/50\n",
      "73/73 - 0s - 5ms/step - loss: 292216346320568320.0000\n",
      "Epoch 34/50\n",
      "73/73 - 0s - 5ms/step - loss: 292216311960829952.0000\n",
      "Epoch 35/50\n",
      "73/73 - 0s - 5ms/step - loss: 292216380680306688.0000\n",
      "Epoch 36/50\n",
      "73/73 - 0s - 5ms/step - loss: 292216346320568320.0000\n",
      "Epoch 37/50\n",
      "73/73 - 0s - 5ms/step - loss: 292216346320568320.0000\n",
      "Epoch 38/50\n",
      "73/73 - 0s - 6ms/step - loss: 292216415040045056.0000\n",
      "Epoch 39/50\n",
      "73/73 - 0s - 6ms/step - loss: 292216415040045056.0000\n",
      "Epoch 40/50\n",
      "73/73 - 0s - 5ms/step - loss: 292216380680306688.0000\n",
      "Epoch 41/50\n",
      "73/73 - 0s - 5ms/step - loss: 292216311960829952.0000\n",
      "Epoch 42/50\n",
      "73/73 - 0s - 5ms/step - loss: 292216346320568320.0000\n",
      "Epoch 43/50\n",
      "73/73 - 0s - 5ms/step - loss: 292216311960829952.0000\n",
      "Epoch 44/50\n",
      "73/73 - 0s - 5ms/step - loss: 292216380680306688.0000\n",
      "Epoch 45/50\n",
      "73/73 - 0s - 5ms/step - loss: 292216380680306688.0000\n",
      "Epoch 46/50\n",
      "73/73 - 0s - 5ms/step - loss: 292216311960829952.0000\n",
      "Epoch 47/50\n",
      "73/73 - 0s - 6ms/step - loss: 292216346320568320.0000\n",
      "Epoch 48/50\n",
      "73/73 - 0s - 5ms/step - loss: 292216380680306688.0000\n",
      "Epoch 49/50\n",
      "73/73 - 0s - 5ms/step - loss: 292216380680306688.0000\n",
      "Epoch 50/50\n",
      "73/73 - 0s - 5ms/step - loss: 292216346320568320.0000\n"
     ]
    },
    {
     "data": {
      "text/plain": [
       "<keras.src.callbacks.history.History at 0x1a4f227e540>"
      ]
     },
     "execution_count": 75,
     "metadata": {},
     "output_type": "execute_result"
    }
   ],
   "source": [
    "# Train the model\n",
    "model.fit(X_train, y_train, epochs=50, batch_size=32, verbose=2)"
   ]
  },
  {
   "cell_type": "code",
   "execution_count": 76,
   "id": "94ef87d9-f2a0-45a9-9f3e-a34ed379aa87",
   "metadata": {},
   "outputs": [
    {
     "name": "stdout",
     "output_type": "stream",
     "text": [
      "\u001b[1m18/18\u001b[0m \u001b[32m━━━━━━━━━━━━━━━━━━━━\u001b[0m\u001b[37m\u001b[0m \u001b[1m0s\u001b[0m 9ms/step\n"
     ]
    }
   ],
   "source": [
    "# Make predictions\n",
    "y_pred = model.predict(X_test)"
   ]
  },
  {
   "cell_type": "code",
   "execution_count": 77,
   "id": "fb588497-0ef9-4fc3-95be-9dcf6f80c6ea",
   "metadata": {},
   "outputs": [
    {
     "name": "stdout",
     "output_type": "stream",
     "text": [
      "\u001b[1m18/18\u001b[0m \u001b[32m━━━━━━━━━━━━━━━━━━━━\u001b[0m\u001b[37m\u001b[0m \u001b[1m0s\u001b[0m 2ms/step - loss: 364711992662949888.0000  \n",
      "MSE: 371761133507313664.00\n"
     ]
    }
   ],
   "source": [
    "# Evaluate the model\n",
    "mse = model.evaluate(X_test, y_test)\n",
    "print(f'MSE: {mse:.2f}')"
   ]
  },
  {
   "cell_type": "code",
   "execution_count": 78,
   "id": "074c02fa-2de0-46a9-a292-85d5ada945a5",
   "metadata": {},
   "outputs": [
    {
     "data": {
      "image/png": "[encoded data removed]",
      "text/plain": [
       "<Figure size 640x480 with 1 Axes>"
      ]
     },
     "metadata": {},
     "output_type": "display_data"
    }
   ],
   "source": [
    "# Plot the predictions\n",
    "import matplotlib.pyplot as plt\n",
    "\n",
    "plt.plot(y_test, label='Actual')\n",
    "plt.plot(y_pred, label='Predicted')\n",
    "plt.legend()\n",
    "plt.show()"
   ]
  },
  {
   "cell_type": "code",
   "execution_count": null,
   "id": "bfa950ee-e137-42ff-9806-6bdf7e370be5",
   "metadata": {},
   "outputs": [],
   "source": []
  }
 ],
 "metadata": {
  "kernelspec": {
   "display_name": "Python 3 (ipykernel)",
   "language": "python",
   "name": "python3"
  },
  "language_info": {
   "codemirror_mode": {
    "name": "ipython",
    "version": 3
   },
   "file_extension": ".py",
   "mimetype": "text/x-python",
   "name": "python",
   "nbconvert_exporter": "python",
   "pygments_lexer": "ipython3",
   "version": "3.12.5"
  },
  "widgets": {
   "application/vnd.jupyter.widget-state+json": {
    "state": {},
    "version_major": 2,
    "version_minor": 0
   }
  }
 },
 "nbformat": 4,
 "nbformat_minor": 5
}
